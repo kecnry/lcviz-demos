{
 "cells": [
  {
   "cell_type": "markdown",
   "id": "404f3a25-6502-4f60-a552-2504c411974c",
   "metadata": {},
   "source": [
    "# Integration with External Modeling Code (PHOEBE)\n",
    "\n",
    "* **Last Updated**: March 7, 2024,\n",
    "* **lcviz version**: 0.2.0"
   ]
  },
  {
   "cell_type": "code",
   "execution_count": null,
   "id": "29f332e6-2d66-493d-9562-4ddd50ccb778",
   "metadata": {},
   "outputs": [],
   "source": [
    "# If phoebe is not installed, install phoebe:\n",
    "try:\n",
    "    import phoebe\n",
    "except ImportError:\n",
    "    !pip install phoebe\n",
    "    import phoebe"
   ]
  },
  {
   "cell_type": "code",
   "execution_count": null,
   "id": "fb04d9c3-977e-436e-b88a-94af35f20bff",
   "metadata": {},
   "outputs": [],
   "source": [
    "from lightkurve import search_lightcurve\n",
    "\n",
    "from lcviz import LCviz\n",
    "\n",
    "lc = search_lightcurve(\"KIC 2835289\", mission=\"Kepler\", cadence=\"long\", quarter=10).download()\n",
    "\n",
    "lcviz = LCviz()\n",
    "lcviz.load_data(lc)\n",
    "lcviz.show()"
   ]
  },
  {
   "cell_type": "code",
   "execution_count": null,
   "id": "886b93cc-000e-4716-879d-b0716c7ec881",
   "metadata": {},
   "outputs": [],
   "source": [
    "flatten = lcviz.plugins['Flatten']\n",
    "flatten.open_in_tray()"
   ]
  },
  {
   "cell_type": "code",
   "execution_count": null,
   "id": "dff92885-ab5a-49df-93a9-b40e45ef2134",
   "metadata": {},
   "outputs": [],
   "source": [
    "flatten.unnormalize = True\n",
    "lc = flatten.flatten()"
   ]
  },
  {
   "cell_type": "code",
   "execution_count": null,
   "id": "fe612a32-cba8-4765-a527-15f33ea00ea9",
   "metadata": {},
   "outputs": [],
   "source": [
    "flatten.close_in_tray()"
   ]
  },
  {
   "cell_type": "code",
   "execution_count": null,
   "id": "a4643c8e-637c-46a9-a6c9-12fecd1fd92b",
   "metadata": {},
   "outputs": [],
   "source": [
    "ephem = lcviz.plugins['Ephemeris']\n",
    "ephem.open_in_tray()"
   ]
  },
  {
   "cell_type": "code",
   "execution_count": null,
   "id": "3cbba805-1555-4707-bbad-536a7fb8e7a2",
   "metadata": {},
   "outputs": [],
   "source": [
    "#ephem.method = 'Box Least Squares'"
   ]
  },
  {
   "cell_type": "code",
   "execution_count": null,
   "id": "27226a2f-85ee-48eb-8b03-effebd59563e",
   "metadata": {},
   "outputs": [],
   "source": [
    "ephem.adopt_period_at_max_power()"
   ]
  },
  {
   "cell_type": "code",
   "execution_count": null,
   "id": "1763b58a-024b-4daf-bd71-2fe993f29269",
   "metadata": {},
   "outputs": [],
   "source": [
    "ephem.period *= 2"
   ]
  },
  {
   "cell_type": "code",
   "execution_count": null,
   "id": "dea2a463-bef0-468a-bb2c-fef27395e9ca",
   "metadata": {},
   "outputs": [],
   "source": [
    "ephem.wrap_at = 0.5"
   ]
  },
  {
   "cell_type": "code",
   "execution_count": null,
   "id": "92e8f6cc-07d1-419e-b686-a2b0e0487bac",
   "metadata": {},
   "outputs": [],
   "source": [
    "#ephem.t0 = 0.016"
   ]
  },
  {
   "cell_type": "code",
   "execution_count": null,
   "id": "975c95fb-a883-4961-adad-53d81185cb58",
   "metadata": {},
   "outputs": [],
   "source": [
    "# could be available from phoebe.default_binary_from_lcviz or also from the export plugin in lcviz (either\n",
    "# code could either live in phoebe or an extra package that links the two and registers the ability in both codes\n",
    "def default_binary_from_lcviz(lcviz, ephem_map={'default': 'binary'}, b=None):  \n",
    "    import numpy as np\n",
    "    if b is None:\n",
    "        b = phoebe.default_binary()\n",
    "\n",
    "    # datasets\n",
    "    ref_time = None\n",
    "    for data in lcviz.app.data_collection:\n",
    "        # TODO: ignore non flux-vs-time entries\n",
    "        label = data.label\n",
    "        lc = lcviz.get_data(data.label)\n",
    "        flux_col = lcviz.plugins['Flux Column'].flux_column.selected\n",
    "        fluxes = lc[flux_col].value\n",
    "        mask = np.isfinite(fluxes)\n",
    "        b.add_dataset('lc',\n",
    "                      times=lc['time'].value[mask], fluxes=fluxes[mask],\n",
    "                      compute_phases=phoebe.linspace(0,1,201),\n",
    "                      pblum_mode='dataset-scaled',\n",
    "                      dataset=label.replace(' ', '_'))\n",
    "        if ref_time is None and data.meta.get('reference_time'):\n",
    "            ref_time = data.meta.get('reference_time').value\n",
    "    \n",
    "    if ref_time is None:\n",
    "        ref_time = 0.0\n",
    "\n",
    "    b.set_value(qualifier='t0', context='system', value=ref_time)\n",
    "    \n",
    "    # ephemerides\n",
    "    ephem_plg = lcviz.plugins.get('Ephemeris')\n",
    "    for lcviz_comp, phoebe_comp in ephem_map.items():\n",
    "        # TODO: support for rotation periods, validate phoebe_comp\n",
    "        # TODO: support for reftime in setting t0_supconj (and use that for t0@system)\n",
    "        ephem = ephem_plg.ephemerides.get(lcviz_comp, {})\n",
    "        b.set_value(qualifier='period', component=phoebe_comp, context='component', value=ephem.get('period', 1.0))\n",
    "        b.set_value(qualifier='t0_supconj', component=phoebe_comp, context='component', value=ephem.get('t0', 0.0)+ref_time)\n",
    "        b.set_value(qualifier='dpdt', component=phoebe_comp, context='component', value=ephem.get('dpdt', 0.0))  # TODO: units\n",
    "\n",
    "\n",
    "    return b"
   ]
  },
  {
   "cell_type": "code",
   "execution_count": null,
   "id": "f0512f42-8fe9-43e7-85d1-d9cb02fd4760",
   "metadata": {},
   "outputs": [],
   "source": [
    "%matplotlib inline\n",
    "b = default_binary_from_lcviz(lcviz)"
   ]
  },
  {
   "cell_type": "code",
   "execution_count": null,
   "id": "a6d6a675-9cc7-49dc-9f97-65c485903830",
   "metadata": {},
   "outputs": [],
   "source": [
    "b.plot(x='phases', size=0.01, show=True)"
   ]
  },
  {
   "cell_type": "code",
   "execution_count": null,
   "id": "32af2ff1-fff1-4ce5-b34d-481b85456c10",
   "metadata": {},
   "outputs": [],
   "source": [
    "#b.add_solver('estimator.lc_geometry')\n",
    "#b.run_solver()\n",
    "#b.flip_constraint('requivsumfrac', solve_for='sma@binary')\n",
    "#b.flip_constraint('teffratio', solve_for='teff@secondary')\n",
    "#b.adopt_solution()"
   ]
  },
  {
   "cell_type": "code",
   "execution_count": null,
   "id": "01307df2-27d9-41e4-8b1a-c576f5c20b29",
   "metadata": {},
   "outputs": [],
   "source": [
    "b.run_compute()"
   ]
  },
  {
   "cell_type": "code",
   "execution_count": null,
   "id": "2bfaea2f-d413-4664-9f3c-1c3a321ed318",
   "metadata": {},
   "outputs": [],
   "source": [
    "b.plot(x='phases', size=0.01, show=True)"
   ]
  },
  {
   "cell_type": "code",
   "execution_count": null,
   "id": "4ef6e1ad-a619-4ce5-b2bd-c53ccbbf97c3",
   "metadata": {},
   "outputs": [],
   "source": [
    "# definitely could be integrated into phoebe as b.to_lightkurve(dataset, model=None, ...)\n",
    "def phoebe_model_to_lightkurve(b, model='latest'):\n",
    "    model_ps = b.filter(model=model, context='model')\n",
    "    times = model_ps.get_value(qualifier='times')\n",
    "    fluxes = model_ps.get_value(qualifier='fluxes')\n",
    "    return times, fluxes"
   ]
  },
  {
   "cell_type": "code",
   "execution_count": null,
   "id": "128b76b4-8736-4988-91e3-52e2f05e901c",
   "metadata": {},
   "outputs": [],
   "source": [
    "model_lc = phoebe_model_to_lightkurve(b)"
   ]
  },
  {
   "cell_type": "code",
   "execution_count": null,
   "id": "0c288196-3613-4295-aab4-c2cc1745eeeb",
   "metadata": {},
   "outputs": [],
   "source": [
    "lcviz.load_data(model_lc)\n",
    "# plot as line, not scatter, in time-viewer (can we support phase-sorted line in phase-viewer?)"
   ]
  },
  {
   "cell_type": "code",
   "execution_count": null,
   "id": "cc1c0273-7e4b-4859-8c3a-789f06723a32",
   "metadata": {},
   "outputs": [],
   "source": []
  }
 ],
 "metadata": {
  "kernelspec": {
   "display_name": "Python 3 (ipykernel)",
   "language": "python",
   "name": "python3"
  },
  "language_info": {
   "codemirror_mode": {
    "name": "ipython",
    "version": 3
   },
   "file_extension": ".py",
   "mimetype": "text/x-python",
   "name": "python",
   "nbconvert_exporter": "python",
   "pygments_lexer": "ipython3",
   "version": "3.11.3"
  }
 },
 "nbformat": 4,
 "nbformat_minor": 5
}
