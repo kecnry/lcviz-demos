{
 "cells": [
  {
   "cell_type": "markdown",
   "id": "0491f3d8-7dc5-4ae1-be48-7b7c6bc62c84",
   "metadata": {},
   "source": [
    "# Load a target pixel file for an eclipsing binary\n",
    "\n",
    "KIC 3954798 is an eclipsing binary with a very deep primary eclipse. Let's take a look at long cadence (30 minute) Kepler observations from the first Kepler quarter. We will load both the pipeline-reduced [light curve](https://archive.stsci.edu/kepler/manuals/archive_manual.pdf#page=16) and the [target pixel file](https://archive.stsci.edu/kepler/manuals/archive_manual.pdf#page=22) from MAST. \n",
    "\n",
    "* **Last Updated**: Oct 21, 2024\n",
    "* **lcviz version**: 0.4.3\n",
    "\n",
    "First we download the observations with `lightkurve`:"
   ]
  },
  {
   "cell_type": "code",
   "execution_count": null,
   "id": "01f925e2-f516-4e9e-9336-1afb39a0df11",
   "metadata": {},
   "outputs": [],
   "source": [
    "from lcviz import LCviz\n",
    "from lightkurve import search_lightcurve, search_targetpixelfile\n",
    "from astropy.time import Time\n",
    "\n",
    "# load a Kepler long-cadence light curve and TPF of a deep\n",
    "# eclipsing binary with an orbital period of 0.91 days:\n",
    "query = dict(\n",
    "    target=\"KIC 3954798\", \n",
    "    quarter=1, \n",
    "    author='Kepler', \n",
    "    cadence='long'\n",
    ")\n",
    "\n",
    "tpf = search_targetpixelfile(**query).download_all()[0]\n",
    "\n",
    "# normalize the light curve by its median:\n",
    "lc = search_lightcurve(**query).download_all()[0].normalize()"
   ]
  },
  {
   "cell_type": "markdown",
   "id": "0d10195c-1259-4410-bb28-195c29f43685",
   "metadata": {},
   "source": [
    "Now load both files of observations into LCviz:"
   ]
  },
  {
   "cell_type": "code",
   "execution_count": null,
   "id": "fad0a49e-fbb3-47a3-ba3f-0d368a4baf1d",
   "metadata": {},
   "outputs": [],
   "source": [
    "lcviz = LCviz()\n",
    "lcviz.load_data(lc)\n",
    "lcviz.load_data(tpf)\n",
    "lcviz.show()"
   ]
  },
  {
   "cell_type": "markdown",
   "id": "5c5cfd6f-ae7c-444b-b3ce-9da4d540bae8",
   "metadata": {},
   "source": [
    "On the left, we see the light curve of the eclipsing binary. If you zoom in, you will see a deep primary eclipse and a shallower secondary eclipse. \n",
    "\n",
    "On the right, we see a slice through the target pixel file (TPF). TPFs are data cubes containing a time series of small 2D images extracted from the Kepler field near the target. The image on the right shows the 2D image of the sky at the time selected in the `flux-vs-time` viewer on the left, and marked with the vertical line.\n",
    "\n",
    "We adjust the colormap on the image and launch the Time Selector plugin with the API:"
   ]
  },
  {
   "cell_type": "code",
   "execution_count": null,
   "id": "6348af0f-f657-4c26-828a-0e13055fd5e8",
   "metadata": {},
   "outputs": [],
   "source": [
    "# adjust the colormap on the TPF image:\n",
    "plot_opts = lcviz.plugins['Plot Options']\n",
    "plot_opts.viewer = 'image'\n",
    "plot_opts.stretch_vmin = 50\n",
    "plot_opts.stretch_vmax = 22_000\n",
    "plot_opts.stretch_function = 'arcsinh'\n",
    "\n",
    "# open the Time Selector plugin:\n",
    "time_sel = lcviz.plugins['Time Selector']\n",
    "time_sel.open_in_tray()"
   ]
  },
  {
   "cell_type": "markdown",
   "id": "fb9f40bf-8c96-4064-a6dc-e1e5ffb91018",
   "metadata": {},
   "source": [
    "You can select a different time to visualize in the `image` viewer by:\n",
    "1. Selecting the second-to-last icon in the `flux-vs-time` viewer.\n",
    "2. Clicking or dragging anywhere in the `flux-vs-time` viewer. The viewer on the right will update to show the spatial image at the new time.\n",
    "\n",
    "You can also press the play/pause (⏯️) button in the Time Selector plugin to step through times in the TPF.\n",
    "\n",
    "Now let's view the phase-folded light curve using the ephemeris from the [Villanova Kepler Eclipsing Binary Catalog](https://keplerebs.villanova.edu/):"
   ]
  },
  {
   "cell_type": "code",
   "execution_count": null,
   "id": "90016f97-6e97-4c0d-8205-f88096f5dd4c",
   "metadata": {},
   "outputs": [],
   "source": [
    "time_coordinates = lcviz.app.data_collection[0].coords\n",
    "reference_time = time_coordinates.reference_time\n",
    "\n",
    "period = 0.918480  # days\n",
    "epoch = Time(54953.841706, format='mjd')\n",
    "\n",
    "# phase-fold the transit light curve in an ephemeris viewer:\n",
    "eph = lcviz.plugins['Ephemeris']\n",
    "eph.period = period\n",
    "eph.t0 = (\n",
    "    (epoch - reference_time).to_value(time_coordinates.unit) % eph.period\n",
    ")"
   ]
  }
 ],
 "metadata": {
  "kernelspec": {
   "display_name": "Python 3 (ipykernel)",
   "language": "python",
   "name": "python3"
  },
  "language_info": {
   "codemirror_mode": {
    "name": "ipython",
    "version": 3
   },
   "file_extension": ".py",
   "mimetype": "text/x-python",
   "name": "python",
   "nbconvert_exporter": "python",
   "pygments_lexer": "ipython3",
   "version": "3.11.9"
  }
 },
 "nbformat": 4,
 "nbformat_minor": 5
}
