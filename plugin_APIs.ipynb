{
 "cells": [
  {
   "cell_type": "markdown",
   "id": "a4c3f939-107c-4ce5-9fed-061806bc91b2",
   "metadata": {},
   "source": [
    "# Using the Plugin APIs\n",
    "\n",
    "This notebook demonstrates how to discover the API commands necessary to reproduce plugin workflows in the notebook.\n",
    "\n",
    "* **Last Updated**: August 23, 2024\n",
    "* **lcviz version**: pre-release of 0.5.0"
   ]
  },
  {
   "cell_type": "code",
   "execution_count": null,
   "id": "496f7354-c10e-4e2b-951d-88f73c4b9e7e",
   "metadata": {},
   "outputs": [],
   "source": [
    "from lightkurve import search_lightcurve\n",
    "from lcviz import LCviz\n",
    "\n",
    "lc = search_lightcurve(\"HAT-P-11\", mission=\"Kepler\", cadence=\"long\", quarter=10).download()\n",
    "\n",
    "lcviz = LCviz()\n",
    "lcviz.load_data(lc)\n",
    "lcviz.show()"
   ]
  },
  {
   "cell_type": "markdown",
   "id": "50d7047c-49c2-4105-852a-7e1f9be38a46",
   "metadata": {},
   "source": [
    "As an example, let's use the \"Flatten\" plugin, but the principals here apply to any plugin.  The plugin APIs are accessible through a dictionary from the `.plugins` attribute on the application object (here named `lcviz`):"
   ]
  },
  {
   "cell_type": "code",
   "execution_count": null,
   "id": "a7683342-7a31-42c3-b6bb-121a100bbbe7",
   "metadata": {},
   "outputs": [],
   "source": [
    "lcviz.plugins"
   ]
  },
  {
   "cell_type": "markdown",
   "id": "fd158287-fda4-4e2c-a007-23964633061f",
   "metadata": {},
   "source": [
    "The keys are the names of the plugins shown in the sidebar in the app."
   ]
  },
  {
   "cell_type": "code",
   "execution_count": null,
   "id": "a46697c3-7c5b-44e8-819f-66e53091ae3f",
   "metadata": {},
   "outputs": [],
   "source": [
    "lcviz.plugins['Flatten']"
   ]
  },
  {
   "cell_type": "markdown",
   "id": "7829e15b-54ca-49f8-94cf-77d31b25d634",
   "metadata": {},
   "source": [
    "To access a list of available attributes and methods, call `dir(plugin_api_object)`"
   ]
  },
  {
   "cell_type": "code",
   "execution_count": null,
   "id": "c60343f7-9841-419c-a8e8-2ebe2f6165d9",
   "metadata": {},
   "outputs": [],
   "source": [
    "dir(lcviz.plugins['Flatten'])"
   ]
  },
  {
   "cell_type": "markdown",
   "id": "36d476b2-9b5e-4200-8481-9e7acca2e531",
   "metadata": {},
   "source": [
    "All plugins have `show()` (to show in-line in the notebook), `open_in_tray()` (to open in the sidebar tray), and `close_in_tray()` methods, as well as an `api_hints_enabled` attribute which can be set to `True` to help discover the uses of the remaining exposed API commands.  Let's show this plugin-in line and then enable the API hints."
   ]
  },
  {
   "cell_type": "code",
   "execution_count": null,
   "id": "5574f1cf-db00-4df3-97d3-fd2e0ac01af3",
   "metadata": {},
   "outputs": [],
   "source": [
    "plg = lcviz.plugins['Flatten']\n",
    "plg.open_in_tray()"
   ]
  },
  {
   "cell_type": "code",
   "execution_count": null,
   "id": "e4d81082-befe-4909-9dbc-ad805b108dfd",
   "metadata": {},
   "outputs": [],
   "source": [
    "plg.api_hints_enabled = True"
   ]
  },
  {
   "cell_type": "markdown",
   "id": "66e42482-e414-4765-a38c-943520885ee6",
   "metadata": {},
   "source": [
    "Note that the API hints are also togglable in the plugin UI itself with the `<>` button in the top right, and includes a hint for how to access the plugin object itself (`plg = lcviz.plugins['Flatten']`).\n",
    "\n",
    "We can now use the UI to set options interactively, checking the live-preview of the flattening trend, and then writing a code block to reproduce those options in the notebook.  For example:"
   ]
  },
  {
   "cell_type": "code",
   "execution_count": null,
   "id": "a765bf31-622c-4d1c-895e-4fc817ee4a3f",
   "metadata": {},
   "outputs": [],
   "source": [
    "plg.window_length = 50\n",
    "plg.polyorder = 4\n",
    "plg.niters = 5\n",
    "plg.unnormalize = True\n",
    "plg.flatten(add_data=True)\n",
    "plg.close_in_tray()"
   ]
  }
 ],
 "metadata": {
  "kernelspec": {
   "display_name": "Python 3 (ipykernel)",
   "language": "python",
   "name": "python3"
  },
  "language_info": {
   "codemirror_mode": {
    "name": "ipython",
    "version": 3
   },
   "file_extension": ".py",
   "mimetype": "text/x-python",
   "name": "python",
   "nbconvert_exporter": "python",
   "pygments_lexer": "ipython3",
   "version": "3.11.9"
  }
 },
 "nbformat": 4,
 "nbformat_minor": 5
}
